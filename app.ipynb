{
 "cells": [
  {
   "cell_type": "code",
   "execution_count": 1,
   "metadata": {},
   "outputs": [],
   "source": [
    "from datetime import datetime\n",
    "\n",
    "import streamlit as st\n",
    "\n",
    "from streamlit_jupyter import StreamlitPatcher, tqdm"
   ]
  },
  {
   "cell_type": "code",
   "execution_count": 2,
   "metadata": {},
   "outputs": [
    {
     "name": "stderr",
     "output_type": "stream",
     "text": [
      "2023-02-07 21:11:01.253 WARNING streamlit_jupyter.core: plotly is not installed, falling back to default st.metric implementation\n",
      "To use plotly, run `pip install plotly`\n"
     ]
    }
   ],
   "source": [
    "sp = StreamlitPatcher()\n",
    "sp.jupyter()  # register patcher with streamlit"
   ]
  },
  {
   "cell_type": "code",
   "execution_count": 3,
   "metadata": {},
   "outputs": [
    {
     "data": {
      "text/markdown": [
       "# Example"
      ],
      "text/plain": [
       "<IPython.core.display.Markdown object>"
      ]
     },
     "metadata": {},
     "output_type": "display_data"
    }
   ],
   "source": [
    "\n",
    "\n",
    "st.title(\"Example\")"
   ]
  },
  {
   "cell_type": "code",
   "execution_count": 4,
   "metadata": {},
   "outputs": [
    {
     "data": {
      "text/markdown": [
       "\n",
       "\n",
       "This is a test page demonstrating the use of `streamlit_jupyter`.\n",
       "\n",
       "If you're seeing this in jupyter, then it's working!\n",
       "\n"
      ],
      "text/plain": [
       "<IPython.core.display.Markdown object>"
      ]
     },
     "metadata": {},
     "output_type": "display_data"
    }
   ],
   "source": [
    "\n",
    "\n",
    "st.markdown(\n",
    "    \"\"\"\n",
    "\n",
    "This is a test page demonstrating the use of `streamlit_jupyter`.\n",
    "\n",
    "If you're seeing this in jupyter, then it's working!\n",
    "\n",
    "\"\"\"\n",
    ")"
   ]
  },
  {
   "cell_type": "code",
   "execution_count": 5,
   "metadata": {},
   "outputs": [
    {
     "data": {
      "text/plain": [
       "{'cache',\n",
       " 'caption',\n",
       " 'checkbox',\n",
       " 'code',\n",
       " 'dataframe',\n",
       " 'date_input',\n",
       " 'expander',\n",
       " 'header',\n",
       " 'json',\n",
       " 'latex',\n",
       " 'markdown',\n",
       " 'metric',\n",
       " 'multiselect',\n",
       " 'radio',\n",
       " 'selectbox',\n",
       " 'subheader',\n",
       " 'text',\n",
       " 'text_area',\n",
       " 'text_input',\n",
       " 'title',\n",
       " 'write'}"
      ]
     },
     "execution_count": 5,
     "metadata": {},
     "output_type": "execute_result"
    }
   ],
   "source": [
    "sp.registered_methods"
   ]
  },
  {
   "cell_type": "code",
   "execution_count": 6,
   "metadata": {},
   "outputs": [
    {
     "data": {
      "application/vnd.jupyter.widget-view+json": {
       "model_id": "73d3b4b731b746f48c9cc8641235451b",
       "version_major": 2,
       "version_minor": 0
      },
      "text/plain": [
       "Textarea(value='John', description=\"What's your name?\", placeholder='Type something')"
      ]
     },
     "metadata": {},
     "output_type": "display_data"
    }
   ],
   "source": [
    "\n",
    "\n",
    "name = st.text_input(\"What's your name?\", \"John\")"
   ]
  },
  {
   "cell_type": "code",
   "execution_count": 7,
   "metadata": {},
   "outputs": [
    {
     "data": {
      "application/vnd.jupyter.widget-view+json": {
       "model_id": "f93c19d2e2844c16a8704291c3559f89",
       "version_major": 2,
       "version_minor": 0
      },
      "text/plain": [
       "DatePicker(value=Timestamp('2023-02-07 00:00:00'), description='Choose a date')"
      ]
     },
     "metadata": {},
     "output_type": "display_data"
    }
   ],
   "source": [
    "\n",
    "\n",
    "date = st.date_input(\"Choose a date\", datetime.now().date())"
   ]
  },
  {
   "cell_type": "code",
   "execution_count": 8,
   "metadata": {},
   "outputs": [
    {
     "data": {
      "text/markdown": [
       "## Hello John!\n",
       "## The date is 2023-02-07"
      ],
      "text/plain": [
       "<IPython.core.display.Markdown object>"
      ]
     },
     "metadata": {},
     "output_type": "display_data"
    }
   ],
   "source": [
    "\n",
    "\n",
    "st.markdown(f\"## Hello {name}!\\n## The date is {date.strftime('%Y-%m-%d')}\")"
   ]
  },
  {
   "cell_type": "code",
   "execution_count": null,
   "metadata": {},
   "outputs": [],
   "source": []
  },
  {
   "cell_type": "code",
   "execution_count": 9,
   "metadata": {},
   "outputs": [
    {
     "data": {
      "application/vnd.jupyter.widget-view+json": {
       "model_id": "44c7b209a93741fd859a08dd196ec23d",
       "version_major": 2,
       "version_minor": 0
      },
      "text/plain": [
       "  0%|          | 0/10 [00:00<?, ?it/s]"
      ]
     },
     "metadata": {},
     "output_type": "display_data"
    },
    {
     "data": {
      "text/html": [
       "<div>\n",
       "<style scoped>\n",
       "    .dataframe tbody tr th:only-of-type {\n",
       "        vertical-align: middle;\n",
       "    }\n",
       "\n",
       "    .dataframe tbody tr th {\n",
       "        vertical-align: top;\n",
       "    }\n",
       "\n",
       "    .dataframe thead th {\n",
       "        text-align: right;\n",
       "    }\n",
       "</style>\n",
       "<table border=\"1\" class=\"dataframe\">\n",
       "  <thead>\n",
       "    <tr style=\"text-align: right;\">\n",
       "      <th></th>\n",
       "      <th>c</th>\n",
       "      <th>d</th>\n",
       "    </tr>\n",
       "    <tr>\n",
       "      <th>date</th>\n",
       "      <th></th>\n",
       "      <th></th>\n",
       "    </tr>\n",
       "  </thead>\n",
       "  <tbody>\n",
       "    <tr>\n",
       "      <th>2023-02-07</th>\n",
       "      <td>7</td>\n",
       "      <td>10</td>\n",
       "    </tr>\n",
       "    <tr>\n",
       "      <th>2023-02-08</th>\n",
       "      <td>8</td>\n",
       "      <td>11</td>\n",
       "    </tr>\n",
       "    <tr>\n",
       "      <th>2023-02-09</th>\n",
       "      <td>5</td>\n",
       "      <td>3</td>\n",
       "    </tr>\n",
       "  </tbody>\n",
       "</table>\n",
       "</div>"
      ],
      "text/plain": [
       "            c   d\n",
       "date             \n",
       "2023-02-07  7  10\n",
       "2023-02-08  8  11\n",
       "2023-02-09  5   3"
      ]
     },
     "metadata": {},
     "output_type": "display_data"
    }
   ],
   "source": [
    "\n",
    "\n",
    "import time\n",
    "\n",
    "import pandas as pd\n",
    "\n",
    "\n",
    "@st.cache(suppress_st_warning=True)\n",
    "def get_data(date):\n",
    "    for i in tqdm(range(10)):\n",
    "        time.sleep(0.1)\n",
    "    return pd.DataFrame(\n",
    "        {\"date\": pd.date_range(date, periods=3), \"c\": [7, 8, 5], \"d\": [10, 11, 3]}\n",
    "    ).set_index(\"date\")\n",
    "\n",
    "\n",
    "df = get_data(date)\n",
    "st.write(df)"
   ]
  },
  {
   "cell_type": "code",
   "execution_count": null,
   "metadata": {},
   "outputs": [],
   "source": []
  },
  {
   "cell_type": "code",
   "execution_count": null,
   "metadata": {},
   "outputs": [],
   "source": []
  },
  {
   "cell_type": "code",
   "execution_count": 10,
   "metadata": {},
   "outputs": [
    {
     "name": "stderr",
     "output_type": "stream",
     "text": [
      "2023-02-07 21:11:03.631 WARNING streamlit_jupyter.core: plotly is not installed, falling back to default st.metric implementation\n",
      "To use plotly, run `pip install plotly`\n"
     ]
    },
    {
     "data": {
      "text/markdown": [
       "`st.metric widget (this will work as expected in streamlit)`"
      ],
      "text/plain": [
       "<IPython.core.display.Markdown object>"
      ]
     },
     "metadata": {},
     "output_type": "display_data"
    }
   ],
   "source": [
    "# | exporti\n",
    "\n",
    "st.metric(\"Speed\", 300, 210, delta_color=\"normal\", label_visibility=\"visible\")"
   ]
  },
  {
   "cell_type": "code",
   "execution_count": 11,
   "metadata": {},
   "outputs": [
    {
     "name": "stderr",
     "output_type": "stream",
     "text": [
      "2023-02-07 21:11:03.779 WARNING streamlit_jupyter.core: plotly is not installed, falling back to default st.metric implementation\n",
      "To use plotly, run `pip install plotly`\n"
     ]
    },
    {
     "data": {
      "text/markdown": [
       "`st.metric widget (this will work as expected in streamlit)`"
      ],
      "text/plain": [
       "<IPython.core.display.Markdown object>"
      ]
     },
     "metadata": {},
     "output_type": "display_data"
    }
   ],
   "source": [
    "# | exporti\n",
    "\n",
    "st.metric(\"Speed\", 300, 210)"
   ]
  },
  {
   "cell_type": "code",
   "execution_count": 12,
   "metadata": {},
   "outputs": [
    {
     "data": {
      "text/markdown": [
       "```python\n",
       "print(1+1)\n",
       "```"
      ],
      "text/plain": [
       "<IPython.core.display.Markdown object>"
      ]
     },
     "metadata": {},
     "output_type": "display_data"
    }
   ],
   "source": [
    "\n",
    "\n",
    "st.code(\"print(1+1)\", language=\"python\")"
   ]
  },
  {
   "cell_type": "code",
   "execution_count": 13,
   "metadata": {},
   "outputs": [
    {
     "data": {
      "application/vnd.jupyter.widget-view+json": {
       "model_id": "0f02972e616d4aebb6e887bc8520ec25",
       "version_major": 2,
       "version_minor": 0
      },
      "text/plain": [
       "Checkbox(value=True, description='Show code', indent=False)"
      ]
     },
     "metadata": {},
     "output_type": "display_data"
    }
   ],
   "source": [
    "\n",
    "\n",
    "show_code = st.checkbox(\"Show code\", value=True)"
   ]
  },
  {
   "cell_type": "code",
   "execution_count": 14,
   "metadata": {},
   "outputs": [
    {
     "data": {
      "text/markdown": [
       "```python\n",
       "[i**2 for i in range(100)]\n",
       "```"
      ],
      "text/plain": [
       "<IPython.core.display.Markdown object>"
      ]
     },
     "metadata": {},
     "output_type": "display_data"
    }
   ],
   "source": [
    "\n",
    "\n",
    "if show_code:\n",
    "    st.code(\"[i**2 for i in range(100)]\")"
   ]
  },
  {
   "cell_type": "code",
   "execution_count": 15,
   "metadata": {},
   "outputs": [
    {
     "data": {
      "application/vnd.jupyter.widget-view+json": {
       "model_id": "45f3900d53cc440abfda6a62ccaabd0a",
       "version_major": 2,
       "version_minor": 0
      },
      "text/plain": [
       "RadioButtons(description='Choose one option', index=1, options=('foo', 'bar'), value='bar')"
      ]
     },
     "metadata": {},
     "output_type": "display_data"
    }
   ],
   "source": [
    "\n",
    "\n",
    "option = st.radio(\"Choose one option\", options=[\"foo\", \"bar\"], index=1)"
   ]
  },
  {
   "cell_type": "code",
   "execution_count": 16,
   "metadata": {},
   "outputs": [
    {
     "data": {
      "application/vnd.jupyter.widget-view+json": {
       "model_id": "b694a731943b4b01bdf640ad1cc00baf",
       "version_major": 2,
       "version_minor": 0
      },
      "text/plain": [
       "Dropdown(description='Selectbox: ', options=('Jane', 'Bob', 'Alice'), value='Jane')"
      ]
     },
     "metadata": {},
     "output_type": "display_data"
    }
   ],
   "source": [
    "\n",
    "\n",
    "option = st.selectbox(\"Selectbox: \", options=[\"Jane\", \"Bob\", \"Alice\"], index=0)"
   ]
  },
  {
   "cell_type": "code",
   "execution_count": 17,
   "metadata": {},
   "outputs": [
    {
     "data": {
      "application/vnd.jupyter.widget-view+json": {
       "model_id": "a03592def69644959f96a65c19e6c911",
       "version_major": 2,
       "version_minor": 0
      },
      "text/plain": [
       "SelectMultiple(description='Multiselect: ', options=('python', 'golang', 'julia', 'rust'), value=())"
      ]
     },
     "metadata": {},
     "output_type": "display_data"
    }
   ],
   "source": [
    "\n",
    "\n",
    "options = st.multiselect(\"Multiselect: \", options=[\"python\", \"golang\", \"julia\", \"rust\"])"
   ]
  },
  {
   "cell_type": "code",
   "execution_count": 18,
   "metadata": {},
   "outputs": [
    {
     "data": {
      "application/vnd.jupyter.widget-view+json": {
       "model_id": "d0c3c0486d354648939ddf40ccb472c2",
       "version_major": 2,
       "version_minor": 0
      },
      "text/plain": [
       "SelectMultiple(description='Multiselect with defaults: ', index=(2, 1), options=('nbdev', 'streamlit', 'jupyte…"
      ]
     },
     "metadata": {},
     "output_type": "display_data"
    }
   ],
   "source": [
    "\n",
    "\n",
    "options = st.multiselect(\n",
    "    \"Multiselect with defaults: \",\n",
    "    options=[\"nbdev\", \"streamlit\", \"jupyter\", \"fastcore\"],\n",
    "    default=[\"jupyter\", \"streamlit\"],\n",
    ")"
   ]
  },
  {
   "cell_type": "code",
   "execution_count": 19,
   "metadata": {},
   "outputs": [
    {
     "data": {
      "text/markdown": [
       "### st.text:"
      ],
      "text/plain": [
       "<IPython.core.display.Markdown object>"
      ]
     },
     "metadata": {},
     "output_type": "display_data"
    },
    {
     "data": {
      "text/markdown": [
       "```None\n",
       "This is a text\n",
       "```"
      ],
      "text/plain": [
       "<IPython.core.display.Markdown object>"
      ]
     },
     "metadata": {},
     "output_type": "display_data"
    },
    {
     "data": {
      "text/markdown": [
       "```None\n",
       "This is \n",
       " multiline text\n",
       "```"
      ],
      "text/plain": [
       "<IPython.core.display.Markdown object>"
      ]
     },
     "metadata": {},
     "output_type": "display_data"
    },
    {
     "data": {
      "text/markdown": [
       "```None\n",
       "This is multiline \n",
       " code\n",
       "```"
      ],
      "text/plain": [
       "<IPython.core.display.Markdown object>"
      ]
     },
     "metadata": {},
     "output_type": "display_data"
    }
   ],
   "source": [
    "# | exporti\n",
    "st.subheader(\"st.text:\")\n",
    "st.text(\"This is a text\")\n",
    "st.text(\"This is \\n multiline text\")\n",
    "st.code(\"This is multiline \\n code\", language=None)"
   ]
  },
  {
   "cell_type": "code",
   "execution_count": 20,
   "metadata": {},
   "outputs": [
    {
     "name": "stdout",
     "output_type": "stream",
     "text": [
      "[NbConvertApp] Converting notebook app.ipynb to script\n",
      "[NbConvertApp] Writing 2134 bytes to app.py\n"
     ]
    }
   ],
   "source": [
    "! jupyter nbconvert app.ipynb --to script "
   ]
  },
  {
   "cell_type": "code",
   "execution_count": 21,
   "metadata": {},
   "outputs": [
    {
     "ename": "ModuleNotFoundError",
     "evalue": "No module named 'plotly'",
     "output_type": "error",
     "traceback": [
      "\u001b[0;31m---------------------------------------------------------------------------\u001b[0m",
      "\u001b[0;31mModuleNotFoundError\u001b[0m                       Traceback (most recent call last)",
      "Cell \u001b[0;32mIn[21], line 5\u001b[0m\n\u001b[1;32m      1\u001b[0m \u001b[39mdef\u001b[39;00m \u001b[39m_plot_metric\u001b[39m():\n\u001b[1;32m      2\u001b[0m     \u001b[39mimport\u001b[39;00m \u001b[39mplotly\u001b[39;00m\u001b[39m.\u001b[39;00m\u001b[39mgraph_objects\u001b[39;00m \u001b[39mas\u001b[39;00m \u001b[39mgo\u001b[39;00m\n\u001b[0;32m----> 5\u001b[0m _plot_metric()\n",
      "Cell \u001b[0;32mIn[21], line 2\u001b[0m, in \u001b[0;36m_plot_metric\u001b[0;34m()\u001b[0m\n\u001b[1;32m      1\u001b[0m \u001b[39mdef\u001b[39;00m \u001b[39m_plot_metric\u001b[39m():\n\u001b[0;32m----> 2\u001b[0m     \u001b[39mimport\u001b[39;00m \u001b[39mplotly\u001b[39;00m\u001b[39m.\u001b[39;00m\u001b[39mgraph_objects\u001b[39;00m \u001b[39mas\u001b[39;00m \u001b[39mgo\u001b[39;00m\n",
      "\u001b[0;31mModuleNotFoundError\u001b[0m: No module named 'plotly'"
     ]
    }
   ],
   "source": [
    "def _plot_metric():\n",
    "    import plotly.graph_objects as go\n",
    "\n",
    "\n",
    "_plot_metric()"
   ]
  },
  {
   "cell_type": "code",
   "execution_count": null,
   "metadata": {},
   "outputs": [
    {
     "name": "stdout",
     "output_type": "stream",
     "text": [
      "plotly is not installed, falling back to default st.metric implementation\n",
      "To use plotly, run `pip install plotly`\n"
     ]
    }
   ],
   "source": [
    "try:\n",
    "    _plot_metric()\n",
    "except ImportError:\n",
    "    msg = \"plotly is not installed, falling back to default st.metric implementation\\n\"\n",
    "    msg += \"To use plotly, run `pip install plotly`\"\n",
    "    print(msg)"
   ]
  },
  {
   "cell_type": "code",
   "execution_count": null,
   "metadata": {},
   "outputs": [],
   "source": []
  }
 ],
 "metadata": {
  "kernelspec": {
   "display_name": "stj-demo-hWWQoAkv",
   "language": "python",
   "name": "python3"
  },
  "language_info": {
   "codemirror_mode": {
    "name": "ipython",
    "version": 3
   },
   "file_extension": ".py",
   "mimetype": "text/x-python",
   "name": "python",
   "nbconvert_exporter": "python",
   "pygments_lexer": "ipython3",
   "version": "3.10.8"
  },
  "vscode": {
   "interpreter": {
    "hash": "0d28bbdca70330908aaaa76ddda55388f43d3a3ac20d5f97f8f9ad39da7e739d"
   }
  }
 },
 "nbformat": 4,
 "nbformat_minor": 2
}
